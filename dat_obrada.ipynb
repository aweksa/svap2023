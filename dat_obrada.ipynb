{
 "cells": [
  {
   "cell_type": "code",
   "execution_count": 2,
   "id": "a56e5f40-7dc9-4119-85ba-4b69f7e74fd6",
   "metadata": {},
   "outputs": [],
   "source": [
    "import numpy as np\n",
    "import math\n",
    "import matplotlib.pyplot as plt"
   ]
  },
  {
   "cell_type": "code",
   "execution_count": 11,
   "id": "0bec679e-9767-49ea-909f-7d28d37d0441",
   "metadata": {},
   "outputs": [
    {
     "data": {
      "image/png": "[encoded data removed]",
      "text/plain": [
       "<Figure size 432x288 with 1 Axes>"
      ]
     },
     "metadata": {
      "needs_background": "light"
     },
     "output_type": "display_data"
    }
   ],
   "source": [
    "# Constants\n",
    "distance_t = 233  # Distance to target star in parsecs\n",
    "distance_c = 1e11  # Distance to comparison star in parsecs\n",
    "M_sun = 4.83\n",
    "parsec_to_m = 3.0857e+16\n",
    "t = np.arange(0, 34, 1)\n",
    "\n",
    "target = np.loadtxt(\"target.dat\", usecols=[4], unpack=True)\n",
    "comp = np.loadtxt(\"comparison.dat\", usecols=[4], unpack=True)\n",
    "\n",
    "diff_flux = []\n",
    "target_flux_ = []\n",
    "comp_flux_ = []\n",
    "\n",
    "for i in range(len(target)):\n",
    "    comp_apparent_magnitude = comp[i]\n",
    "    comp_absolute_magnitude = comp_apparent_magnitude - 5 * math.log10(distance_c) + 5\n",
    "    comp_luminosity = 10 ** ((M_sun - comp_absolute_magnitude) / 2.5)\n",
    "    comp_flux = comp_luminosity * 3.828e+26 / (4 * math.pi * (distance_c * parsec_to_m) ** 2)\n",
    "\n",
    "    target_apparent_magnitude = target[i]\n",
    "    target_absolute_magnitude = target_apparent_magnitude - 5 * math.log10(distance_t) + 5\n",
    "    target_luminosity = 10 ** ((M_sun - target_absolute_magnitude) / 2.5)\n",
    "    target_flux = target_luminosity * 3.828e+26 / (4 * math.pi * (distance_t * parsec_to_m) ** 2)\n",
    "\n",
    "    diff_flux.append(target_flux / comp_flux)\n",
    "    target_flux_.append(target_flux)\n",
    "    comp_flux_.append(comp_flux)\n",
    "\n",
    "plt.scatter(t, diff_flux)\n",
    "plt.xlabel(\"Time\")\n",
    "plt.ylabel(\"Flux\")\n",
    "plt.title(\"Target star flux\")\n",
    "plt.show()"
   ]
  },
  {
   "cell_type": "code",
   "execution_count": null,
   "id": "5f418b2c-3d93-4772-905d-186b3071730f",
   "metadata": {},
   "outputs": [],
   "source": []
  }
 ],
 "metadata": {
  "kernelspec": {
   "display_name": "Python 3 (ipykernel)",
   "language": "python",
   "name": "python3"
  },
  "language_info": {
   "codemirror_mode": {
    "name": "ipython",
    "version": 3
   },
   "file_extension": ".py",
   "mimetype": "text/x-python",
   "name": "python",
   "nbconvert_exporter": "python",
   "pygments_lexer": "ipython3",
   "version": "3.9.12"
  }
 },
 "nbformat": 4,
 "nbformat_minor": 5
}
