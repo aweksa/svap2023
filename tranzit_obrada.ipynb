{
 "cells": [
  {
   "cell_type": "code",
   "execution_count": 1,
   "id": "e56e5527-8280-45a3-99c0-a38145c18213",
   "metadata": {},
   "outputs": [],
   "source": [
    "import numpy as np\n",
    "import astropy.constants as const"
   ]
  },
  {
   "cell_type": "code",
   "execution_count": 2,
   "id": "ba9f8f04-c6b3-49bb-9d17-b48336f2a8d2",
   "metadata": {},
   "outputs": [],
   "source": [
    "def R_planete(R_zvezde, delta_fluks, fluks):\n",
    "    return R_zvezde*np.sqrt(delta_fluks/fluks)\n",
    "#vraca u radijusima sunca"
   ]
  },
  {
   "cell_type": "code",
   "execution_count": 3,
   "id": "00eab89b-b9eb-4ce6-b9e4-db93fd57f5b7",
   "metadata": {},
   "outputs": [],
   "source": [
    "def semimajor_axis(orbital_period, mass_star):\n",
    "    orbital_period = orbital_period * 24*60*60\n",
    "    mass_star = mass_star * const.M_sun.value\n",
    "    return ((orbital_period**2 * const.G.value * mass_star/(4*np.pi**2))**(1/3))/const.au.value\n",
    "#vraca u AU"
   ]
  },
  {
   "cell_type": "code",
   "execution_count": 4,
   "id": "0210b3fa-45db-4bd8-a1ff-11807c600cdf",
   "metadata": {},
   "outputs": [],
   "source": [
    "def period(tau, mass, radius_star, radius_planet):\n",
    "    radius_star = radius_star*const.R_sun.value\n",
    "    radius_planet = radius_planet*const.R_sun.value\n",
    "    mass = mass * const.M_sun.value\n",
    "    tau = tau*24*60*60\n",
    "    P = (tau*np.pi)**3 * const.G.value*mass/(4*np.pi**2)/(radius_star+radius_planet)**3\n",
    "    P = P/(24*60*60)\n",
    "    return P\n",
    "#Vraca u danima"
   ]
  },
  {
   "cell_type": "code",
   "execution_count": 5,
   "id": "77011c74-750b-44c8-8eea-53aad54b0ff6",
   "metadata": {},
   "outputs": [],
   "source": [
    "def obrada_krive_sjaja(pl_name, min_fluks, max_fluks, fluks, R_zvezde, M_zvezde, start_vreme, end_vreme):\n",
    "    R_pl = R_planete(R_zvezde, max_fluks - min_fluks, fluks)\n",
    "    P = period(end_vreme - start_vreme, M_zvezde, R_zvezde, R_pl)\n",
    "    a = semimajor_axis(P, M_zvezde)\n",
    "    print(f' Radijus planete {pl_name} u radijusima Jupitera je {R_pl}\\n period u danima je {P}\\n velika poluosa u AU je {a}')\n",
    "    return R_pl*const.R_sun/const.R_jup, P, a"
   ]
  },
  {
   "cell_type": "code",
   "execution_count": 6,
   "id": "d09f3aca-d8d8-4083-900e-67842859ceb3",
   "metadata": {},
   "outputs": [
    {
     "name": "stdout",
     "output_type": "stream",
     "text": [
      " Radijus planete TrES2b u radijusima Jupitera je 0.13895757173170897\n",
      " period u danima je 0.3093799727772248\n",
      " velika poluosa u AU je 0.008719398041728632\n"
     ]
    }
   ],
   "source": [
    "pl_name = \"TrES2b\"\n",
    "min_fluks = 1.73\n",
    "max_fluks = 1.782\n",
    "R_zvezde = 0.813\n",
    "M_zvezde = 0.924\n",
    "fluks = 1.78\n",
    "start_time = 0.0\n",
    "end_time = 0.05\n",
    "\n",
    "R_pl, P, a = obrada_krive_sjaja(pl_name, min_fluks, max_fluks, fluks, R_zvezde, M_zvezde, start_time, end_time)"
   ]
  },
  {
   "cell_type": "code",
   "execution_count": null,
   "id": "4e01ab8f-056c-4488-85bb-5c5779ce3685",
   "metadata": {},
   "outputs": [],
   "source": []
  }
 ],
 "metadata": {
  "kernelspec": {
   "display_name": "Python 3 (ipykernel)",
   "language": "python",
   "name": "python3"
  },
  "language_info": {
   "codemirror_mode": {
    "name": "ipython",
    "version": 3
   },
   "file_extension": ".py",
   "mimetype": "text/x-python",
   "name": "python",
   "nbconvert_exporter": "python",
   "pygments_lexer": "ipython3",
   "version": "3.9.12"
  }
 },
 "nbformat": 4,
 "nbformat_minor": 5
}
